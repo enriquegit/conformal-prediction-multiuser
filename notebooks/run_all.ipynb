{
 "cells": [
  {
   "cell_type": "code",
   "execution_count": null,
   "id": "dcd1ebdb",
   "metadata": {},
   "outputs": [],
   "source": [
    "# Uncomment to install required libraries.\n",
    "# This only needs to be run once.\n",
    "\n",
    "#!pip install mapie"
   ]
  },
  {
   "cell_type": "markdown",
   "id": "7b2fe2f0",
   "metadata": {},
   "source": [
    "# Run all notebooks at once."
   ]
  },
  {
   "cell_type": "code",
   "execution_count": null,
   "id": "5cf37624",
   "metadata": {
    "scrolled": true
   },
   "outputs": [],
   "source": [
    "print(\"*****Mixed model*****\")\n",
    "%run ./run_mixed-model.ipynb\n",
    "print(\"*****UD model*****\")\n",
    "%run ./run_ud-model.ipynb\n",
    "print(\"*****UI model*****\")\n",
    "%run ./run_ui-model.ipynb\n",
    "print(\"*****UC model*****\")\n",
    "%run ./run_uc-model.ipynb\n",
    "print(\"*****Done with everything!*****\")"
   ]
  },
  {
   "cell_type": "code",
   "execution_count": null,
   "id": "ead4dc37",
   "metadata": {},
   "outputs": [],
   "source": []
  }
 ],
 "metadata": {
  "kernelspec": {
   "display_name": "Python 3 (ipykernel)",
   "language": "python",
   "name": "python3"
  },
  "language_info": {
   "codemirror_mode": {
    "name": "ipython",
    "version": 3
   },
   "file_extension": ".py",
   "mimetype": "text/x-python",
   "name": "python",
   "nbconvert_exporter": "python",
   "pygments_lexer": "ipython3",
   "version": "3.11.5"
  }
 },
 "nbformat": 4,
 "nbformat_minor": 5
}
